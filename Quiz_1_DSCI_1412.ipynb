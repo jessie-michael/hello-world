{
  "nbformat": 4,
  "nbformat_minor": 0,
  "metadata": {
    "colab": {
      "provenance": [],
      "authorship_tag": "ABX9TyPoPCKwx136EzfVFD0Trrmk",
      "include_colab_link": true
    },
    "kernelspec": {
      "name": "python3",
      "display_name": "Python 3"
    },
    "language_info": {
      "name": "python"
    }
  },
  "cells": [
    {
      "cell_type": "markdown",
      "metadata": {
        "id": "view-in-github",
        "colab_type": "text"
      },
      "source": [
        "<a href=\"https://colab.research.google.com/github/jessie-michael/hello-world/blob/main/Quiz_1_DSCI_1412.ipynb\" target=\"_parent\"><img src=\"https://colab.research.google.com/assets/colab-badge.svg\" alt=\"Open In Colab\"/></a>"
      ]
    },
    {
      "cell_type": "code",
      "execution_count": 1,
      "metadata": {
        "colab": {
          "base_uri": "https://localhost:8080/"
        },
        "id": "f1hyJHxuyWNp",
        "outputId": "af57a2cf-a601-413f-9d28-89e4e7fc828f"
      },
      "outputs": [
        {
          "output_type": "execute_result",
          "data": {
            "text/plain": [
              "['Malak',\n",
              " 'Omar',\n",
              " 'Jana',\n",
              " 'Aly',\n",
              " 'Rawan',\n",
              " 'Yousef',\n",
              " 'Abdelrahman',\n",
              " 'Sara',\n",
              " 'Nour',\n",
              " 'Kenzie',\n",
              " 'Charbel',\n",
              " 'Malak',\n",
              " 'Shaymaa',\n",
              " 'Lojane',\n",
              " 'Khaled',\n",
              " 'Amr',\n",
              " 'Lina',\n",
              " 'Kenzy',\n",
              " 'Youssef',\n",
              " 'Nadine',\n",
              " 'Lorina',\n",
              " 'Nour',\n",
              " 'Farah',\n",
              " 'Adham',\n",
              " 'Nour',\n",
              " 'Farah',\n",
              " 'Abdulrahman',\n",
              " 'Aly',\n",
              " 'Jessie',\n",
              " 'Zeina']"
            ]
          },
          "metadata": {},
          "execution_count": 1
        }
      ],
      "source": [
        "names = [\"Malak\", \"Omar\", \"Jana\", \"Aly\", \"Rawan\", \"Yousef\", \"Abdelrahman\", \"Sara\", \"Nour\", \"Kenzie\", \"Charbel\", \"Malak\", \"Shaymaa\", \"Lojane\", \"Khaled\", \"Amr\", \"Lina\", \"Kenzy\", \"Youssef\", \"Nadine\", \"Lorina\", \"Nour\", \"Farah\", \"Adham\", \"Nour\", \"Farah\", \"Abdulrahman\", \"Aly\", \"Jessie\", \"Zeina\"]\n",
        "names"
      ]
    },
    {
      "cell_type": "code",
      "source": [
        "names_unique=[]\n",
        "names_unique.append\n",
        "for nam in names:\n",
        "    if nam not in names_unique:\n",
        "        names_unique.append(nam)\n",
        "print(names_unique)\n"
      ],
      "metadata": {
        "colab": {
          "base_uri": "https://localhost:8080/"
        },
        "id": "lJx2AQTjycBh",
        "outputId": "348a3789-8e67-424d-a14f-706146ce4198"
      },
      "execution_count": 3,
      "outputs": [
        {
          "output_type": "stream",
          "name": "stdout",
          "text": [
            "['Malak', 'Omar', 'Jana', 'Aly', 'Rawan', 'Yousef', 'Abdelrahman', 'Sara', 'Nour', 'Kenzie', 'Charbel', 'Shaymaa', 'Lojane', 'Khaled', 'Amr', 'Lina', 'Kenzy', 'Youssef', 'Nadine', 'Lorina', 'Farah', 'Adham', 'Abdulrahman', 'Jessie', 'Zeina']\n"
          ]
        }
      ]
    },
    {
      "cell_type": "code",
      "source": [
        "freq2 = {}\n",
        "\n",
        "for nam in names_unique:\n",
        "    freq2[nam] = names.count(nam) \n",
        "    print(freq2)\n",
        "\n",
        "print ()\n",
        "print (freq2)"
      ],
      "metadata": {
        "colab": {
          "base_uri": "https://localhost:8080/"
        },
        "id": "x-P41C9C1VHT",
        "outputId": "117290a9-8d47-4123-8128-e6c3d3f693ab"
      },
      "execution_count": 4,
      "outputs": [
        {
          "output_type": "stream",
          "name": "stdout",
          "text": [
            "{'Malak': 2}\n",
            "{'Malak': 2, 'Omar': 1}\n",
            "{'Malak': 2, 'Omar': 1, 'Jana': 1}\n",
            "{'Malak': 2, 'Omar': 1, 'Jana': 1, 'Aly': 2}\n",
            "{'Malak': 2, 'Omar': 1, 'Jana': 1, 'Aly': 2, 'Rawan': 1}\n",
            "{'Malak': 2, 'Omar': 1, 'Jana': 1, 'Aly': 2, 'Rawan': 1, 'Yousef': 1}\n",
            "{'Malak': 2, 'Omar': 1, 'Jana': 1, 'Aly': 2, 'Rawan': 1, 'Yousef': 1, 'Abdelrahman': 1}\n",
            "{'Malak': 2, 'Omar': 1, 'Jana': 1, 'Aly': 2, 'Rawan': 1, 'Yousef': 1, 'Abdelrahman': 1, 'Sara': 1}\n",
            "{'Malak': 2, 'Omar': 1, 'Jana': 1, 'Aly': 2, 'Rawan': 1, 'Yousef': 1, 'Abdelrahman': 1, 'Sara': 1, 'Nour': 3}\n",
            "{'Malak': 2, 'Omar': 1, 'Jana': 1, 'Aly': 2, 'Rawan': 1, 'Yousef': 1, 'Abdelrahman': 1, 'Sara': 1, 'Nour': 3, 'Kenzie': 1}\n",
            "{'Malak': 2, 'Omar': 1, 'Jana': 1, 'Aly': 2, 'Rawan': 1, 'Yousef': 1, 'Abdelrahman': 1, 'Sara': 1, 'Nour': 3, 'Kenzie': 1, 'Charbel': 1}\n",
            "{'Malak': 2, 'Omar': 1, 'Jana': 1, 'Aly': 2, 'Rawan': 1, 'Yousef': 1, 'Abdelrahman': 1, 'Sara': 1, 'Nour': 3, 'Kenzie': 1, 'Charbel': 1, 'Shaymaa': 1}\n",
            "{'Malak': 2, 'Omar': 1, 'Jana': 1, 'Aly': 2, 'Rawan': 1, 'Yousef': 1, 'Abdelrahman': 1, 'Sara': 1, 'Nour': 3, 'Kenzie': 1, 'Charbel': 1, 'Shaymaa': 1, 'Lojane': 1}\n",
            "{'Malak': 2, 'Omar': 1, 'Jana': 1, 'Aly': 2, 'Rawan': 1, 'Yousef': 1, 'Abdelrahman': 1, 'Sara': 1, 'Nour': 3, 'Kenzie': 1, 'Charbel': 1, 'Shaymaa': 1, 'Lojane': 1, 'Khaled': 1}\n",
            "{'Malak': 2, 'Omar': 1, 'Jana': 1, 'Aly': 2, 'Rawan': 1, 'Yousef': 1, 'Abdelrahman': 1, 'Sara': 1, 'Nour': 3, 'Kenzie': 1, 'Charbel': 1, 'Shaymaa': 1, 'Lojane': 1, 'Khaled': 1, 'Amr': 1}\n",
            "{'Malak': 2, 'Omar': 1, 'Jana': 1, 'Aly': 2, 'Rawan': 1, 'Yousef': 1, 'Abdelrahman': 1, 'Sara': 1, 'Nour': 3, 'Kenzie': 1, 'Charbel': 1, 'Shaymaa': 1, 'Lojane': 1, 'Khaled': 1, 'Amr': 1, 'Lina': 1}\n",
            "{'Malak': 2, 'Omar': 1, 'Jana': 1, 'Aly': 2, 'Rawan': 1, 'Yousef': 1, 'Abdelrahman': 1, 'Sara': 1, 'Nour': 3, 'Kenzie': 1, 'Charbel': 1, 'Shaymaa': 1, 'Lojane': 1, 'Khaled': 1, 'Amr': 1, 'Lina': 1, 'Kenzy': 1}\n",
            "{'Malak': 2, 'Omar': 1, 'Jana': 1, 'Aly': 2, 'Rawan': 1, 'Yousef': 1, 'Abdelrahman': 1, 'Sara': 1, 'Nour': 3, 'Kenzie': 1, 'Charbel': 1, 'Shaymaa': 1, 'Lojane': 1, 'Khaled': 1, 'Amr': 1, 'Lina': 1, 'Kenzy': 1, 'Youssef': 1}\n",
            "{'Malak': 2, 'Omar': 1, 'Jana': 1, 'Aly': 2, 'Rawan': 1, 'Yousef': 1, 'Abdelrahman': 1, 'Sara': 1, 'Nour': 3, 'Kenzie': 1, 'Charbel': 1, 'Shaymaa': 1, 'Lojane': 1, 'Khaled': 1, 'Amr': 1, 'Lina': 1, 'Kenzy': 1, 'Youssef': 1, 'Nadine': 1}\n",
            "{'Malak': 2, 'Omar': 1, 'Jana': 1, 'Aly': 2, 'Rawan': 1, 'Yousef': 1, 'Abdelrahman': 1, 'Sara': 1, 'Nour': 3, 'Kenzie': 1, 'Charbel': 1, 'Shaymaa': 1, 'Lojane': 1, 'Khaled': 1, 'Amr': 1, 'Lina': 1, 'Kenzy': 1, 'Youssef': 1, 'Nadine': 1, 'Lorina': 1}\n",
            "{'Malak': 2, 'Omar': 1, 'Jana': 1, 'Aly': 2, 'Rawan': 1, 'Yousef': 1, 'Abdelrahman': 1, 'Sara': 1, 'Nour': 3, 'Kenzie': 1, 'Charbel': 1, 'Shaymaa': 1, 'Lojane': 1, 'Khaled': 1, 'Amr': 1, 'Lina': 1, 'Kenzy': 1, 'Youssef': 1, 'Nadine': 1, 'Lorina': 1, 'Farah': 2}\n",
            "{'Malak': 2, 'Omar': 1, 'Jana': 1, 'Aly': 2, 'Rawan': 1, 'Yousef': 1, 'Abdelrahman': 1, 'Sara': 1, 'Nour': 3, 'Kenzie': 1, 'Charbel': 1, 'Shaymaa': 1, 'Lojane': 1, 'Khaled': 1, 'Amr': 1, 'Lina': 1, 'Kenzy': 1, 'Youssef': 1, 'Nadine': 1, 'Lorina': 1, 'Farah': 2, 'Adham': 1}\n",
            "{'Malak': 2, 'Omar': 1, 'Jana': 1, 'Aly': 2, 'Rawan': 1, 'Yousef': 1, 'Abdelrahman': 1, 'Sara': 1, 'Nour': 3, 'Kenzie': 1, 'Charbel': 1, 'Shaymaa': 1, 'Lojane': 1, 'Khaled': 1, 'Amr': 1, 'Lina': 1, 'Kenzy': 1, 'Youssef': 1, 'Nadine': 1, 'Lorina': 1, 'Farah': 2, 'Adham': 1, 'Abdulrahman': 1}\n",
            "{'Malak': 2, 'Omar': 1, 'Jana': 1, 'Aly': 2, 'Rawan': 1, 'Yousef': 1, 'Abdelrahman': 1, 'Sara': 1, 'Nour': 3, 'Kenzie': 1, 'Charbel': 1, 'Shaymaa': 1, 'Lojane': 1, 'Khaled': 1, 'Amr': 1, 'Lina': 1, 'Kenzy': 1, 'Youssef': 1, 'Nadine': 1, 'Lorina': 1, 'Farah': 2, 'Adham': 1, 'Abdulrahman': 1, 'Jessie': 1}\n",
            "{'Malak': 2, 'Omar': 1, 'Jana': 1, 'Aly': 2, 'Rawan': 1, 'Yousef': 1, 'Abdelrahman': 1, 'Sara': 1, 'Nour': 3, 'Kenzie': 1, 'Charbel': 1, 'Shaymaa': 1, 'Lojane': 1, 'Khaled': 1, 'Amr': 1, 'Lina': 1, 'Kenzy': 1, 'Youssef': 1, 'Nadine': 1, 'Lorina': 1, 'Farah': 2, 'Adham': 1, 'Abdulrahman': 1, 'Jessie': 1, 'Zeina': 1}\n",
            "\n",
            "{'Malak': 2, 'Omar': 1, 'Jana': 1, 'Aly': 2, 'Rawan': 1, 'Yousef': 1, 'Abdelrahman': 1, 'Sara': 1, 'Nour': 3, 'Kenzie': 1, 'Charbel': 1, 'Shaymaa': 1, 'Lojane': 1, 'Khaled': 1, 'Amr': 1, 'Lina': 1, 'Kenzy': 1, 'Youssef': 1, 'Nadine': 1, 'Lorina': 1, 'Farah': 2, 'Adham': 1, 'Abdulrahman': 1, 'Jessie': 1, 'Zeina': 1}\n"
          ]
        }
      ]
    },
    {
      "cell_type": "code",
      "source": [
        "\n",
        "freq2"
      ],
      "metadata": {
        "colab": {
          "base_uri": "https://localhost:8080/"
        },
        "id": "2abLKgwt13ln",
        "outputId": "af6f0683-4b34-4484-ccd2-7a70793f8bf8"
      },
      "execution_count": 6,
      "outputs": [
        {
          "output_type": "execute_result",
          "data": {
            "text/plain": [
              "{'Malak': 2,\n",
              " 'Omar': 1,\n",
              " 'Jana': 1,\n",
              " 'Aly': 2,\n",
              " 'Rawan': 1,\n",
              " 'Yousef': 1,\n",
              " 'Abdelrahman': 1,\n",
              " 'Sara': 1,\n",
              " 'Nour': 3,\n",
              " 'Kenzie': 1,\n",
              " 'Charbel': 1,\n",
              " 'Shaymaa': 1,\n",
              " 'Lojane': 1,\n",
              " 'Khaled': 1,\n",
              " 'Amr': 1,\n",
              " 'Lina': 1,\n",
              " 'Kenzy': 1,\n",
              " 'Youssef': 1,\n",
              " 'Nadine': 1,\n",
              " 'Lorina': 1,\n",
              " 'Farah': 2,\n",
              " 'Adham': 1,\n",
              " 'Abdulrahman': 1,\n",
              " 'Jessie': 1,\n",
              " 'Zeina': 1}"
            ]
          },
          "metadata": {},
          "execution_count": 6
        }
      ]
    },
    {
      "cell_type": "code",
      "source": [
        "m=1 #The idea starts with the max=1; it keeps checking on the rest of the frequencies until no more and gives the max\n",
        "for m in freq2:\n",
        "  if freq2>1\n",
        "    m.replace()\n",
        "\n"
      ],
      "metadata": {
        "colab": {
          "base_uri": "https://localhost:8080/",
          "height": 133
        },
        "id": "CHkELmRk14iG",
        "outputId": "64fcb38d-b292-41fe-b40f-aae717a61e93"
      },
      "execution_count": 12,
      "outputs": [
        {
          "output_type": "error",
          "ename": "SyntaxError",
          "evalue": "ignored",
          "traceback": [
            "\u001b[0;36m  File \u001b[0;32m\"<ipython-input-12-7b7460e26eb3>\"\u001b[0;36m, line \u001b[0;32m3\u001b[0m\n\u001b[0;31m    if freq2>1\u001b[0m\n\u001b[0m              ^\u001b[0m\n\u001b[0;31mSyntaxError\u001b[0m\u001b[0;31m:\u001b[0m invalid syntax\n"
          ]
        }
      ]
    }
  ]
}