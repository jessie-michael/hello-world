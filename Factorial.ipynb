{
  "nbformat": 4,
  "nbformat_minor": 0,
  "metadata": {
    "colab": {
      "provenance": [],
      "include_colab_link": true
    },
    "kernelspec": {
      "name": "python3",
      "display_name": "Python 3"
    },
    "language_info": {
      "name": "python"
    }
  },
  "cells": [
    {
      "cell_type": "markdown",
      "metadata": {
        "id": "view-in-github",
        "colab_type": "text"
      },
      "source": [
        "<a href=\"https://colab.research.google.com/github/jessie-michael/hello-world/blob/main/Factorial.ipynb\" target=\"_parent\"><img src=\"https://colab.research.google.com/assets/colab-badge.svg\" alt=\"Open In Colab\"/></a>"
      ]
    },
    {
      "cell_type": "markdown",
      "source": [
        "# Factorial\n",
        "\n",
        "Factorial is a mathematical function that is represented by an exclamation mark (!). It is used to find the product of all positive integers from 1 to a given number. For example, the factorial of 5 (represented as 5!) is calculated as 5 x 4 x 3 x 2 x 1, which equals 120. In other words, factorial is the multiplication of all positive integers up to a given number.\n",
        "\n",
        "Write a program that calculates the factorial of 5."
      ],
      "metadata": {
        "id": "PDYDPb1Oo47v"
      }
    },
    {
      "cell_type": "code",
      "execution_count": null,
      "metadata": {
        "colab": {
          "base_uri": "https://localhost:8080/"
        },
        "id": "IR7bUmh9o1Bl",
        "outputId": "24456218-dcc8-46fc-8df0-fca6bb41ec5b"
      },
      "outputs": [
        {
          "output_type": "execute_result",
          "data": {
            "text/plain": [
              "5"
            ]
          },
          "metadata": {},
          "execution_count": 1
        }
      ],
      "source": [
        "n = 5\n",
        "n"
      ]
    },
    {
      "cell_type": "code",
      "source": [
        "factorial=1\n",
        "for i in range (1,6):\n",
        "  factorial=factorial*i\n",
        "print(factorial)"
      ],
      "metadata": {
        "id": "sz7r3Sn6pIWD",
        "outputId": "ac2f85dd-279a-4a41-8961-2c1fe39e3948",
        "colab": {
          "base_uri": "https://localhost:8080/"
        }
      },
      "execution_count": 2,
      "outputs": [
        {
          "output_type": "stream",
          "name": "stdout",
          "text": [
            "120\n"
          ]
        }
      ]
    }
  ]
}